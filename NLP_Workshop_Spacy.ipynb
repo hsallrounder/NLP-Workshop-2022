{
  "cells": [
    {
      "cell_type": "markdown",
      "metadata": {
        "id": "view-in-github",
        "colab_type": "text"
      },
      "source": [
        "<a href=\"https://colab.research.google.com/github/hsallrounder/NLP-Workshop-2022/blob/main/NLP_Workshop_Spacy.ipynb\" target=\"_parent\"><img src=\"https://colab.research.google.com/assets/colab-badge.svg\" alt=\"Open In Colab\"/></a>"
      ]
    },
    {
      "cell_type": "markdown",
      "source": [
        "# Spacy"
      ],
      "metadata": {
        "id": "FbL2jzXr_Sfp"
      }
    },
    {
      "cell_type": "code",
      "execution_count": null,
      "metadata": {
        "id": "pzt6VqijaqiG"
      },
      "outputs": [],
      "source": [
        "import spacy"
      ]
    },
    {
      "cell_type": "code",
      "execution_count": null,
      "metadata": {
        "id": "QsIOp8bZa0Ji"
      },
      "outputs": [],
      "source": [
        "nlpb=spacy.load(\"en_core_web_sm\")"
      ]
    },
    {
      "cell_type": "code",
      "execution_count": null,
      "metadata": {
        "id": "OuwHe4ksa0Fa"
      },
      "outputs": [],
      "source": [
        "#create an nlp object\n",
        "doc=nlpb(\"he went to play basketball, so he was late,he us from uk\")"
      ]
    },
    {
      "cell_type": "code",
      "execution_count": null,
      "metadata": {
        "id": "ahzyzwGoa0A6",
        "colab": {
          "base_uri": "https://localhost:8080/"
        },
        "outputId": "ff98db7c-5890-4132-f955-9ace6b1fe94c"
      },
      "outputs": [
        {
          "output_type": "execute_result",
          "data": {
            "text/plain": [
              "['tok2vec', 'tagger', 'parser', 'attribute_ruler', 'lemmatizer', 'ner']"
            ]
          },
          "metadata": {},
          "execution_count": 4
        }
      ],
      "source": [
        "nlpb.pipe_names"
      ]
    },
    {
      "cell_type": "code",
      "execution_count": null,
      "metadata": {
        "id": "YVCywp-hgMpD"
      },
      "outputs": [],
      "source": [
        "nlpb.disable_pipe('tok2vec')"
      ]
    },
    {
      "cell_type": "code",
      "execution_count": null,
      "metadata": {
        "id": "wx0bnuTogMll",
        "colab": {
          "base_uri": "https://localhost:8080/"
        },
        "outputId": "9af90e4c-320c-4b71-bf3c-f7dc0e80427c"
      },
      "outputs": [
        {
          "output_type": "execute_result",
          "data": {
            "text/plain": [
              "['tagger', 'parser', 'attribute_ruler', 'lemmatizer', 'ner']"
            ]
          },
          "metadata": {},
          "execution_count": 6
        }
      ],
      "source": [
        "nlpb.pipe_names"
      ]
    },
    {
      "cell_type": "code",
      "execution_count": null,
      "metadata": {
        "id": "IRzc-3mBgMh7",
        "colab": {
          "base_uri": "https://localhost:8080/"
        },
        "outputId": "8d826c30-80c3-4cb2-c8e0-7d5b088a00df"
      },
      "outputs": [
        {
          "output_type": "stream",
          "name": "stdout",
          "text": [
            "he ------> PRON\n",
            "went ------> VERB\n",
            "to ------> PART\n",
            "play ------> VERB\n",
            "basketball ------> NOUN\n",
            ", ------> PUNCT\n",
            "so ------> ADV\n",
            "he ------> PRON\n",
            "was ------> AUX\n",
            "late ------> ADJ\n",
            ", ------> PUNCT\n",
            "he ------> PRON\n",
            "us ------> PRON\n",
            "from ------> ADP\n",
            "uk ------> PROPN\n"
          ]
        }
      ],
      "source": [
        "for token in doc:\n",
        "  print(token.text,\"------>\",token.pos_)"
      ]
    },
    {
      "cell_type": "code",
      "execution_count": null,
      "metadata": {
        "id": "YqriuW1ggMeE",
        "colab": {
          "base_uri": "https://localhost:8080/",
          "height": 36
        },
        "outputId": "4abae293-d2c2-4f82-ddc1-95341f336987"
      },
      "outputs": [
        {
          "output_type": "execute_result",
          "data": {
            "text/plain": [
              "'proper noun'"
            ],
            "application/vnd.google.colaboratory.intrinsic+json": {
              "type": "string"
            }
          },
          "metadata": {},
          "execution_count": 8
        }
      ],
      "source": [
        "spacy.explain(\"PROPN\")"
      ]
    },
    {
      "cell_type": "code",
      "execution_count": null,
      "metadata": {
        "id": "J6hdxzD4az8C",
        "colab": {
          "base_uri": "https://localhost:8080/",
          "height": 36
        },
        "outputId": "e9daa881-0857-4396-9471-47d935a95aae"
      },
      "outputs": [
        {
          "output_type": "execute_result",
          "data": {
            "text/plain": [
              "'adposition'"
            ],
            "application/vnd.google.colaboratory.intrinsic+json": {
              "type": "string"
            }
          },
          "metadata": {},
          "execution_count": 9
        }
      ],
      "source": [
        "spacy.explain(\"ADP\")"
      ]
    },
    {
      "cell_type": "code",
      "execution_count": null,
      "metadata": {
        "id": "NWOzF5BYaz4y",
        "colab": {
          "base_uri": "https://localhost:8080/"
        },
        "outputId": "0623e24c-c589-4b50-8015-62bdd0d54a00"
      },
      "outputs": [
        {
          "output_type": "stream",
          "name": "stdout",
          "text": [
            "he ------> 95\n",
            "went ------> 100\n",
            "to ------> 94\n",
            "play ------> 100\n",
            "basketball ------> 92\n",
            ", ------> 97\n",
            "so ------> 86\n",
            "he ------> 95\n",
            "was ------> 87\n",
            "late ------> 84\n",
            ", ------> 97\n",
            "he ------> 95\n",
            "us ------> 95\n",
            "from ------> 85\n",
            "uk ------> 96\n"
          ]
        }
      ],
      "source": [
        "#to find out id of pos\n",
        "for token in doc:\n",
        "  print(token.text,\"------>\",token.pos)"
      ]
    },
    {
      "cell_type": "code",
      "execution_count": null,
      "metadata": {
        "id": "GKxemclBaz1T"
      },
      "outputs": [],
      "source": [
        "doc=nlpb(\"Indians love to play cricket, 2020 made a loss of $33 million\")"
      ]
    },
    {
      "cell_type": "code",
      "execution_count": null,
      "metadata": {
        "id": "CD0j6v5TmN6c",
        "colab": {
          "base_uri": "https://localhost:8080/"
        },
        "outputId": "fdf68328-ff94-4e85-aa1e-c47748f5c38b"
      },
      "outputs": [
        {
          "output_type": "stream",
          "name": "stdout",
          "text": [
            "Indians NORP\n",
            "2020 DATE\n",
            "$33 million MONEY\n"
          ]
        }
      ],
      "source": [
        "for ent in doc.ents:\n",
        "  print(ent.text,ent.label_)"
      ]
    },
    {
      "cell_type": "code",
      "execution_count": null,
      "metadata": {
        "id": "G7X4s_IHmN2i",
        "colab": {
          "base_uri": "https://localhost:8080/",
          "height": 36
        },
        "outputId": "d1bbcb36-de60-4965-aa3d-e0f2e9de6790"
      },
      "outputs": [
        {
          "output_type": "execute_result",
          "data": {
            "text/plain": [
              "'Nationalities or religious or political groups'"
            ],
            "application/vnd.google.colaboratory.intrinsic+json": {
              "type": "string"
            }
          },
          "metadata": {},
          "execution_count": 13
        }
      ],
      "source": [
        "spacy.explain(\"NORP\")"
      ]
    },
    {
      "cell_type": "code",
      "execution_count": null,
      "metadata": {
        "id": "vTlVK4izmNzg",
        "colab": {
          "base_uri": "https://localhost:8080/"
        },
        "outputId": "4e7d3530-b937-4645-d0c3-002ac480b891"
      },
      "outputs": [
        {
          "output_type": "stream",
          "name": "stdout",
          "text": [
            "50\n",
            "['$', \"''\", ',', '-LRB-', '-RRB-', '.', ':', 'ADD', 'AFX', 'CC', 'CD', 'DT', 'EX', 'FW', 'HYPH', 'IN', 'JJ', 'JJR', 'JJS', 'LS', 'MD', 'NFP', 'NN', 'NNP', 'NNPS', 'NNS', 'PDT', 'POS', 'PRP', 'PRP$', 'RB', 'RBR', 'RBS', 'RP', 'SYM', 'TO', 'UH', 'VB', 'VBD', 'VBG', 'VBN', 'VBP', 'VBZ', 'WDT', 'WP', 'WP$', 'WRB', 'XX', '_SP', '``']\n"
          ]
        }
      ],
      "source": [
        "#Available tags in spacy tagger-POS\n",
        "pos_tag_list=nlpb.pipe_labels['tagger']\n",
        "print(len(pos_tag_list))\n",
        "print(pos_tag_list)"
      ]
    },
    {
      "cell_type": "code",
      "execution_count": null,
      "metadata": {
        "id": "zQLssuKymNx5",
        "colab": {
          "base_uri": "https://localhost:8080/",
          "height": 36
        },
        "outputId": "86537732-9a1a-4ea3-8de3-d925269a89c5"
      },
      "outputs": [
        {
          "output_type": "execute_result",
          "data": {
            "text/plain": [
              "'email'"
            ],
            "application/vnd.google.colaboratory.intrinsic+json": {
              "type": "string"
            }
          },
          "metadata": {},
          "execution_count": 15
        }
      ],
      "source": [
        "spacy.explain(\"ADD\")"
      ]
    }
  ],
  "metadata": {
    "colab": {
      "collapsed_sections": [],
      "provenance": [],
      "include_colab_link": true
    },
    "kernelspec": {
      "display_name": "Python 3",
      "name": "python3"
    },
    "language_info": {
      "name": "python"
    }
  },
  "nbformat": 4,
  "nbformat_minor": 0
}